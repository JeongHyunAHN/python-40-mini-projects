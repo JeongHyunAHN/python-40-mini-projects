{
 "cells": [
  {
   "cell_type": "code",
   "execution_count": 3,
   "metadata": {},
   "outputs": [
    {
     "name": "stdout",
     "output_type": "stream",
     "text": [
      "hello\n",
      "hi\n"
     ]
    }
   ],
   "source": [
    "class Greet():\n",
    "    def hello(self):\n",
    "        print(\"hello\")\n",
    "    def hi(self):\n",
    "        print(\"hi\")\n",
    "\n",
    "human1 = Greet()\n",
    "human2 = Greet()\n",
    "human1.hello()\n",
    "human2.hi()"
   ]
  },
  {
   "cell_type": "code",
   "execution_count": 14,
   "metadata": {},
   "outputs": [
    {
     "name": "stdout",
     "output_type": "stream",
     "text": [
      "Mom is ... \n",
      "is tall\n",
      "is smart\n",
      "Son is ... \n",
      "is tall\n",
      "is smart\n",
      "is athletic\n"
     ]
    }
   ],
   "source": [
    "class Mother():\n",
    "    def character(self):\n",
    "        print(\"is tall\")\n",
    "        print(\"is smart\")\n",
    "    \n",
    "class Son(Mother):\n",
    "    def character(self):\n",
    "        super().character()\n",
    "        print(\"is athletic\")\n",
    "\n",
    "mom = Mother()\n",
    "son = Son()\n",
    "print(\"Mom is ... \")\n",
    "mom.character()\n",
    "print(\"Son is ... \")\n",
    "son.character()\n"
   ]
  }
 ],
 "metadata": {
  "kernelspec": {
   "display_name": "base",
   "language": "python",
   "name": "python3"
  },
  "language_info": {
   "codemirror_mode": {
    "name": "ipython",
    "version": 3
   },
   "file_extension": ".py",
   "mimetype": "text/x-python",
   "name": "python",
   "nbconvert_exporter": "python",
   "pygments_lexer": "ipython3",
   "version": "3.9.13"
  },
  "orig_nbformat": 4
 },
 "nbformat": 4,
 "nbformat_minor": 2
}
