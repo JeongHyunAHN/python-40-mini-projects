{
 "cells": [
  {
   "cell_type": "code",
   "execution_count": 2,
   "metadata": {},
   "outputs": [
    {
     "name": "stdout",
     "output_type": "stream",
     "text": [
      "에러발생\n"
     ]
    }
   ],
   "source": [
    "try : \n",
    "    dvrebrebe\n",
    "except:\n",
    "    print(\"에러발생\")"
   ]
  },
  {
   "cell_type": "code",
   "execution_count": 3,
   "metadata": {},
   "outputs": [
    {
     "name": "stdout",
     "output_type": "stream",
     "text": [
      "bypass error \n"
     ]
    }
   ],
   "source": [
    "try:\n",
    "    blabla\n",
    "except:\n",
    "    pass\n",
    "print(\"bypass error \")"
   ]
  },
  {
   "cell_type": "code",
   "execution_count": 6,
   "metadata": {},
   "outputs": [
    {
     "name": "stdout",
     "output_type": "stream",
     "text": [
      "에러발생 원인 name 'blabla' is not defined\n"
     ]
    }
   ],
   "source": [
    "try:\n",
    "    blabla\n",
    "except Exception as e:\n",
    "    print(\"에러발생 원인\",e)"
   ]
  },
  {
   "cell_type": "code",
   "execution_count": 8,
   "metadata": {},
   "outputs": [
    {
     "name": "stdout",
     "output_type": "stream",
     "text": [
      "good morning\n"
     ]
    }
   ],
   "source": [
    "def func():\n",
    "    print(\"good morning\")\n",
    "    \n",
    "func()"
   ]
  },
  {
   "cell_type": "code",
   "execution_count": 9,
   "metadata": {},
   "outputs": [
    {
     "name": "stdout",
     "output_type": "stream",
     "text": [
      "70\n"
     ]
    }
   ],
   "source": [
    "def funcAdd(a,b):\n",
    "    return a+b\n",
    "\n",
    "c = funcAdd(30,40)\n",
    "print(c)"
   ]
  },
  {
   "cell_type": "code",
   "execution_count": 10,
   "metadata": {},
   "outputs": [
    {
     "name": "stdout",
     "output_type": "stream",
     "text": [
      "4 3\n"
     ]
    }
   ],
   "source": [
    "def funcAddMux(a,b):\n",
    "    add = a+b\n",
    "    mux = a*b\n",
    "    return add,mux\n",
    "\n",
    "a,b = funcAddMux(3,1)\n",
    "print(a,b)"
   ]
  },
  {
   "cell_type": "code",
   "execution_count": 11,
   "metadata": {},
   "outputs": [
    {
     "name": "stdout",
     "output_type": "stream",
     "text": [
      "3\n"
     ]
    }
   ],
   "source": [
    "def funcAddMux(a,b):\n",
    "    add = a+b\n",
    "    mux = a*b\n",
    "    return add,mux\n",
    "_,b = funcAddMux(1,3) # the underscore implies = no need for a \n",
    "print(b)"
   ]
  }
 ],
 "metadata": {
  "kernelspec": {
   "display_name": "base",
   "language": "python",
   "name": "python3"
  },
  "language_info": {
   "codemirror_mode": {
    "name": "ipython",
    "version": 3
   },
   "file_extension": ".py",
   "mimetype": "text/x-python",
   "name": "python",
   "nbconvert_exporter": "python",
   "pygments_lexer": "ipython3",
   "version": "3.9.13"
  },
  "orig_nbformat": 4
 },
 "nbformat": 4,
 "nbformat_minor": 2
}
