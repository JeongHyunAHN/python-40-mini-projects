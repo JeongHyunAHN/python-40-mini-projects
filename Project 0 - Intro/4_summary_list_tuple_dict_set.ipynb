{
 "cells": [
  {
   "cell_type": "code",
   "execution_count": 1,
   "metadata": {},
   "outputs": [
    {
     "name": "stdout",
     "output_type": "stream",
     "text": [
      "[1, 2, 3, 4, 5]\n",
      "[1, 2, 3, 4, 5, 6]\n"
     ]
    }
   ],
   "source": [
    "# list\n",
    "a_list = [1,2,3,4,5]\n",
    "print(a_list)\n",
    "a_list.append(6)\n",
    "print(a_list)"
   ]
  },
  {
   "cell_type": "code",
   "execution_count": 2,
   "metadata": {},
   "outputs": [],
   "source": [
    "a_tuple = (1,2,3,4,5)\n",
    "# a_tuple[0] = 2 \n",
    "# above action is impossible for tuple\n",
    "# tuple = list but unmodifiable"
   ]
  },
  {
   "cell_type": "code",
   "execution_count": 3,
   "metadata": {},
   "outputs": [
    {
     "name": "stdout",
     "output_type": "stream",
     "text": [
      "Last\n"
     ]
    }
   ],
   "source": [
    "a_dict = {1: \"James\", 2: \"Ronaldo\", 100: \"Paul\", \"last\": \"Last\"}\n",
    "# dict = {key1:value1, key2:value2, key3:value3}\n",
    "print(a_dict[\"last\"])"
   ]
  },
  {
   "cell_type": "code",
   "execution_count": 8,
   "metadata": {},
   "outputs": [
    {
     "name": "stdout",
     "output_type": "stream",
     "text": [
      "{1, 2, 3, 4}\n",
      "{1, 3, 4, 5}\n",
      "{'0', 'y', 'o', 'p', 'n', '4', 'h', 't', 's'}\n"
     ]
    }
   ],
   "source": [
    "a_set = set([1,2,3,4])\n",
    "print(a_set)\n",
    "\n",
    "b_set = set([3,3,4,4,5,5,1,1])\n",
    "print(b_set)\n",
    "\n",
    "c_set = set(\"python40s\")\n",
    "print(c_set)"
   ]
  }
 ],
 "metadata": {
  "kernelspec": {
   "display_name": "base",
   "language": "python",
   "name": "python3"
  },
  "language_info": {
   "codemirror_mode": {
    "name": "ipython",
    "version": 3
   },
   "file_extension": ".py",
   "mimetype": "text/x-python",
   "name": "python",
   "nbconvert_exporter": "python",
   "pygments_lexer": "ipython3",
   "version": "3.9.13"
  },
  "orig_nbformat": 4
 },
 "nbformat": 4,
 "nbformat_minor": 2
}
